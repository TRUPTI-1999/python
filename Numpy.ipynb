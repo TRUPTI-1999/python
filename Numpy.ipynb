{
 "cells": [
  {
   "cell_type": "markdown",
   "id": "ae88b7c7",
   "metadata": {},
   "source": [
    "## Numpy"
   ]
  },
  {
   "cell_type": "markdown",
   "id": "ee7ca6ef",
   "metadata": {},
   "source": [
    "- Array from numpy"
   ]
  },
  {
   "cell_type": "markdown",
   "id": "ee4980a7",
   "metadata": {},
   "source": [
    "# Array"
   ]
  },
  {
   "cell_type": "markdown",
   "id": "4f9b6b58",
   "metadata": {},
   "source": [
    "- An array is a collection of homogenous data-type.(single data type)\n",
    "- 4 bytes\n",
    "- Array can store data very compactly and more efficient for storing large amount of data.\n",
    "- Array are great for numerical operations,list cannot directly handle math operations\n",
    "- As the array size increase ,numpy array get around 30 times faster than python list.\n",
    "- Because the numpy array is denely packed in memory due to homogeous type,also frees the memory faster.\n",
    "- you have to explicity import numpy to use array"
   ]
  },
  {
   "cell_type": "markdown",
   "id": "96b0f19d",
   "metadata": {},
   "source": [
    "## List"
   ]
  },
  {
   "cell_type": "markdown",
   "id": "f8a76ca9",
   "metadata": {},
   "source": [
    "- whwras list is a collection of hetrogeneous data-type\n",
    "- 14 byte\n",
    "- list less efficient than array for storing large amount of data.\n",
    "- it is python data type"
   ]
  },
  {
   "cell_type": "code",
   "execution_count": 2,
   "id": "dfb7144f",
   "metadata": {},
   "outputs": [],
   "source": [
    "import numpy as np"
   ]
  },
  {
   "cell_type": "code",
   "execution_count": 3,
   "id": "f8503cef",
   "metadata": {},
   "outputs": [
    {
     "name": "stdout",
     "output_type": "stream",
     "text": [
      "['ram', 123, 50.5, (7+2j)]\n"
     ]
    },
    {
     "data": {
      "text/plain": [
       "list"
      ]
     },
     "execution_count": 3,
     "metadata": {},
     "output_type": "execute_result"
    }
   ],
   "source": [
    "my_list=[\"ram\",123,50.5,7+2j]\n",
    "print(my_list)\n",
    "type(my_list)"
   ]
  },
  {
   "cell_type": "code",
   "execution_count": 6,
   "id": "e8a5500f",
   "metadata": {},
   "outputs": [
    {
     "name": "stdout",
     "output_type": "stream",
     "text": [
      "['ram', 123, 50.5, (7+2j)]\n"
     ]
    },
    {
     "data": {
      "text/plain": [
       "list"
      ]
     },
     "execution_count": 6,
     "metadata": {},
     "output_type": "execute_result"
    }
   ],
   "source": [
    "my_array=[\"ram\",123,50.5,7+2j]\n",
    "print(my_array)\n",
    "type(my_array)"
   ]
  },
  {
   "cell_type": "code",
   "execution_count": 8,
   "id": "18c2557c",
   "metadata": {},
   "outputs": [
    {
     "name": "stdout",
     "output_type": "stream",
     "text": [
      "['ram' '123' '50.5' '(7+2j)']\n"
     ]
    },
    {
     "data": {
      "text/plain": [
       "numpy.ndarray"
      ]
     },
     "execution_count": 8,
     "metadata": {},
     "output_type": "execute_result"
    }
   ],
   "source": [
    "my_array=np.array([\"ram\",123,50.5,7+2j])\n",
    "\n",
    "print(my_array)\n",
    "type(my_array)"
   ]
  },
  {
   "cell_type": "code",
   "execution_count": 9,
   "id": "ff713b51",
   "metadata": {},
   "outputs": [
    {
     "name": "stdout",
     "output_type": "stream",
     "text": [
      "[123. +0.j  50.5+0.j   7. +2.j]\n"
     ]
    },
    {
     "data": {
      "text/plain": [
       "numpy.ndarray"
      ]
     },
     "execution_count": 9,
     "metadata": {},
     "output_type": "execute_result"
    }
   ],
   "source": [
    "my_array=np.array([123,50.5,7+2j])\n",
    "print(my_array)\n",
    "type(my_array)"
   ]
  },
  {
   "cell_type": "code",
   "execution_count": 10,
   "id": "abb827cf",
   "metadata": {},
   "outputs": [
    {
     "name": "stdout",
     "output_type": "stream",
     "text": [
      "[123.   50.5]\n"
     ]
    },
    {
     "data": {
      "text/plain": [
       "numpy.ndarray"
      ]
     },
     "execution_count": 10,
     "metadata": {},
     "output_type": "execute_result"
    }
   ],
   "source": [
    "my_array=np.array([123,50.5])\n",
    "print(my_array)\n",
    "type(my_array)"
   ]
  },
  {
   "cell_type": "markdown",
   "id": "d9ff3045",
   "metadata": {},
   "source": [
    "string>complex>float>int"
   ]
  },
  {
   "cell_type": "markdown",
   "id": "879a3c70",
   "metadata": {},
   "source": [
    "### Empty  Numpy array"
   ]
  },
  {
   "cell_type": "code",
   "execution_count": 12,
   "id": "09209204",
   "metadata": {},
   "outputs": [],
   "source": [
    "import numpy as np"
   ]
  },
  {
   "cell_type": "code",
   "execution_count": 13,
   "id": "b751a4df",
   "metadata": {},
   "outputs": [
    {
     "data": {
      "text/plain": [
       "array([], dtype=float64)"
      ]
     },
     "execution_count": 13,
     "metadata": {},
     "output_type": "execute_result"
    }
   ],
   "source": [
    "a=np.array([])\n",
    "a"
   ]
  },
  {
   "cell_type": "code",
   "execution_count": 15,
   "id": "a29021f0",
   "metadata": {},
   "outputs": [
    {
     "name": "stdout",
     "output_type": "stream",
     "text": [
      "[[123.   50.5]\n",
      " [  1.    2. ]]\n"
     ]
    },
    {
     "data": {
      "text/plain": [
       "numpy.ndarray"
      ]
     },
     "execution_count": 15,
     "metadata": {},
     "output_type": "execute_result"
    }
   ],
   "source": [
    "my_array=np.array([[123,50.5],[1,2]])\n",
    "print(my_array)\n",
    "type(my_array)"
   ]
  },
  {
   "cell_type": "code",
   "execution_count": 16,
   "id": "c20d478b",
   "metadata": {},
   "outputs": [
    {
     "data": {
      "text/plain": [
       "2"
      ]
     },
     "execution_count": 16,
     "metadata": {},
     "output_type": "execute_result"
    }
   ],
   "source": [
    "my_array.ndim"
   ]
  },
  {
   "cell_type": "markdown",
   "id": "95aaa8fc",
   "metadata": {},
   "source": [
    "## 1.ndim   # check dimention"
   ]
  },
  {
   "cell_type": "code",
   "execution_count": 17,
   "id": "dd95bde5",
   "metadata": {},
   "outputs": [
    {
     "data": {
      "text/plain": [
       "2"
      ]
     },
     "execution_count": 17,
     "metadata": {},
     "output_type": "execute_result"
    }
   ],
   "source": [
    "my_array.ndim"
   ]
  },
  {
   "cell_type": "code",
   "execution_count": 18,
   "id": "f94961ad",
   "metadata": {},
   "outputs": [
    {
     "name": "stdout",
     "output_type": "stream",
     "text": [
      "[ 1  2 34]\n",
      "the dim is: 1\n"
     ]
    }
   ],
   "source": [
    "a=np.array([1,2,34])\n",
    "print(a)\n",
    "print(\"the dim is:\",a.ndim)"
   ]
  },
  {
   "cell_type": "code",
   "execution_count": 19,
   "id": "dc712e9c",
   "metadata": {},
   "outputs": [
    {
     "name": "stdout",
     "output_type": "stream",
     "text": [
      "[[[ 1  2 34]\n",
      "  [ 1  2  3]]]\n",
      "the dim is: 3\n"
     ]
    }
   ],
   "source": [
    "a=np.array([[[1,2,34],[1,2,3]]])\n",
    "print(a)\n",
    "print(\"the dim is:\",a.ndim)"
   ]
  },
  {
   "cell_type": "code",
   "execution_count": 21,
   "id": "f485333f",
   "metadata": {},
   "outputs": [
    {
     "name": "stdout",
     "output_type": "stream",
     "text": [
      "[[[ 1  2 34]\n",
      "  [ 1  2  3]\n",
      "  [ 1  2 34]\n",
      "  [ 1  2  3]]]\n",
      "the dim is: 3\n"
     ]
    }
   ],
   "source": [
    "a=np.array([[[1,2,34],[1,2,3],[1,2,34],[1,2,3]]])\n",
    "print(a)\n",
    "print(\"the dim is:\",a.ndim)"
   ]
  },
  {
   "cell_type": "markdown",
   "id": "a6cad103",
   "metadata": {},
   "source": [
    "## 2.dtype"
   ]
  },
  {
   "cell_type": "code",
   "execution_count": 23,
   "id": "d0177a0f",
   "metadata": {},
   "outputs": [
    {
     "name": "stdout",
     "output_type": "stream",
     "text": [
      "[['1' '2' '34']\n",
      " ['1' '2' '3']]\n",
      "the dim is 2\n"
     ]
    }
   ],
   "source": [
    "a=np.array([[1,2,34],[1,2,3]],dtype=str)\n",
    "print(a)\n",
    "print(\"the dim is\",a.ndim)"
   ]
  },
  {
   "cell_type": "code",
   "execution_count": 24,
   "id": "95acbf3e",
   "metadata": {},
   "outputs": [
    {
     "name": "stdout",
     "output_type": "stream",
     "text": [
      "[[ 1.  2. 34.]\n",
      " [ 1.  2.  3.]]\n",
      "the dim is 2\n"
     ]
    }
   ],
   "source": [
    "a=np.array([[1,2,34],[1,2,3]],dtype=float)\n",
    "print(a)\n",
    "print(\"the dim is\",a.ndim)"
   ]
  },
  {
   "cell_type": "code",
   "execution_count": 25,
   "id": "62ea76a2",
   "metadata": {},
   "outputs": [
    {
     "name": "stdout",
     "output_type": "stream",
     "text": [
      "[[ 1.+0.j  2.+0.j 34.+0.j]\n",
      " [ 1.+0.j  2.+0.j  3.+0.j]]\n",
      "the dim is 2\n"
     ]
    }
   ],
   "source": [
    "a=np.array([[1,2,34],[1,2,3]],dtype=complex)\n",
    "print(a)\n",
    "print(\"the dim is\",a.ndim)"
   ]
  },
  {
   "cell_type": "code",
   "execution_count": 26,
   "id": "f9080fcf",
   "metadata": {},
   "outputs": [
    {
     "name": "stdout",
     "output_type": "stream",
     "text": [
      "[[ 1  2 34]\n",
      " [ 1  2  3]]\n",
      "the dim is 2\n"
     ]
    }
   ],
   "source": [
    "a=np.array([[1,2,34],[1,2,3]],dtype=int)\n",
    "print(a)\n",
    "print(\"the dim is\",a.ndim)"
   ]
  },
  {
   "cell_type": "code",
   "execution_count": 27,
   "id": "d5461adc",
   "metadata": {},
   "outputs": [
    {
     "name": "stdout",
     "output_type": "stream",
     "text": [
      "[[ 5.   2.  34.3]\n",
      " [ 1.   2.   3. ]]\n",
      "the dim is: 2\n"
     ]
    }
   ],
   "source": [
    "a=np.array([[5,2,34.3],[1,2,3]])\n",
    "print(a)\n",
    "print(\"the dim is:\",a.ndim)"
   ]
  },
  {
   "cell_type": "code",
   "execution_count": 28,
   "id": "054598f3",
   "metadata": {},
   "outputs": [
    {
     "data": {
      "text/plain": [
       "dtype('float64')"
      ]
     },
     "execution_count": 28,
     "metadata": {},
     "output_type": "execute_result"
    }
   ],
   "source": [
    "a.dtype"
   ]
  },
  {
   "cell_type": "markdown",
   "id": "5d707742",
   "metadata": {},
   "source": [
    "### 3.iteamsize"
   ]
  },
  {
   "cell_type": "code",
   "execution_count": 30,
   "id": "69977722",
   "metadata": {},
   "outputs": [
    {
     "data": {
      "text/plain": [
       "8"
      ]
     },
     "execution_count": 30,
     "metadata": {},
     "output_type": "execute_result"
    }
   ],
   "source": [
    "a.itemsize"
   ]
  },
  {
   "cell_type": "markdown",
   "id": "cdb24d5d",
   "metadata": {},
   "source": [
    "## 4.shape"
   ]
  },
  {
   "cell_type": "code",
   "execution_count": 31,
   "id": "a5eb14ab",
   "metadata": {},
   "outputs": [
    {
     "data": {
      "text/plain": [
       "(2, 3)"
      ]
     },
     "execution_count": 31,
     "metadata": {},
     "output_type": "execute_result"
    }
   ],
   "source": [
    "a.shape"
   ]
  },
  {
   "cell_type": "markdown",
   "id": "eec68b94",
   "metadata": {},
   "source": [
    "## 5.size"
   ]
  },
  {
   "cell_type": "code",
   "execution_count": 32,
   "id": "9190beef",
   "metadata": {},
   "outputs": [
    {
     "data": {
      "text/plain": [
       "6"
      ]
     },
     "execution_count": 32,
     "metadata": {},
     "output_type": "execute_result"
    }
   ],
   "source": [
    "a.size"
   ]
  },
  {
   "cell_type": "markdown",
   "id": "ab6a6bec",
   "metadata": {},
   "source": [
    "## 6.Data"
   ]
  },
  {
   "cell_type": "code",
   "execution_count": 33,
   "id": "21f9a4f9",
   "metadata": {},
   "outputs": [
    {
     "data": {
      "text/plain": [
       "<memory at 0x000001DF24CF79F0>"
      ]
     },
     "execution_count": 33,
     "metadata": {},
     "output_type": "execute_result"
    }
   ],
   "source": [
    "a.data"
   ]
  },
  {
   "cell_type": "markdown",
   "id": "fe9c4f70",
   "metadata": {},
   "source": [
    "## indexing and slicing"
   ]
  },
  {
   "cell_type": "code",
   "execution_count": 34,
   "id": "26251d1b",
   "metadata": {},
   "outputs": [],
   "source": [
    "a=np.array([[5,2,34],[1,2,3]])"
   ]
  },
  {
   "cell_type": "code",
   "execution_count": 35,
   "id": "a6c474f1",
   "metadata": {},
   "outputs": [
    {
     "data": {
      "text/plain": [
       "2"
      ]
     },
     "execution_count": 35,
     "metadata": {},
     "output_type": "execute_result"
    }
   ],
   "source": [
    "a.ndim"
   ]
  },
  {
   "cell_type": "code",
   "execution_count": 36,
   "id": "87a7b5e9",
   "metadata": {},
   "outputs": [
    {
     "data": {
      "text/plain": [
       "5"
      ]
     },
     "execution_count": 36,
     "metadata": {},
     "output_type": "execute_result"
    }
   ],
   "source": [
    "a[0][0]"
   ]
  },
  {
   "cell_type": "code",
   "execution_count": 38,
   "id": "c1199042",
   "metadata": {},
   "outputs": [
    {
     "data": {
      "text/plain": [
       "34"
      ]
     },
     "execution_count": 38,
     "metadata": {},
     "output_type": "execute_result"
    }
   ],
   "source": [
    "a[0][2]"
   ]
  },
  {
   "cell_type": "code",
   "execution_count": 39,
   "id": "f389288c",
   "metadata": {},
   "outputs": [
    {
     "data": {
      "text/plain": [
       "1"
      ]
     },
     "execution_count": 39,
     "metadata": {},
     "output_type": "execute_result"
    }
   ],
   "source": [
    "a[1][0]"
   ]
  },
  {
   "cell_type": "code",
   "execution_count": 42,
   "id": "99bbc36b",
   "metadata": {},
   "outputs": [
    {
     "name": "stdout",
     "output_type": "stream",
     "text": [
      "[[[   1    2    3    4    5    6]\n",
      "  [  11   22   33   44   55   66]]\n",
      "\n",
      " [[ 111  222  333  444  555  666]\n",
      "  [1111 2222 3333 4444 5555 6666]]]\n"
     ]
    },
    {
     "data": {
      "text/plain": [
       "3"
      ]
     },
     "execution_count": 42,
     "metadata": {},
     "output_type": "execute_result"
    }
   ],
   "source": [
    "a=np.array([[[1,2,3,4,5,6],[11,22,33,44,55,66]],[[111,222,333,444,555,666],[1111,2222,3333,4444,5555,6666]]])\n",
    "print(a)\n",
    "a.ndim"
   ]
  },
  {
   "cell_type": "code",
   "execution_count": 43,
   "id": "da3a5437",
   "metadata": {},
   "outputs": [
    {
     "data": {
      "text/plain": [
       "array([[ 1,  2,  3,  4,  5,  6],\n",
       "       [11, 22, 33, 44, 55, 66]])"
      ]
     },
     "execution_count": 43,
     "metadata": {},
     "output_type": "execute_result"
    }
   ],
   "source": [
    "a[0]"
   ]
  },
  {
   "cell_type": "code",
   "execution_count": 44,
   "id": "efe79bb0",
   "metadata": {},
   "outputs": [
    {
     "data": {
      "text/plain": [
       "array([1, 2, 3, 4, 5, 6])"
      ]
     },
     "execution_count": 44,
     "metadata": {},
     "output_type": "execute_result"
    }
   ],
   "source": [
    "a[0][0]"
   ]
  },
  {
   "cell_type": "code",
   "execution_count": 45,
   "id": "70399316",
   "metadata": {},
   "outputs": [
    {
     "data": {
      "text/plain": [
       "array([11, 22, 33, 44, 55, 66])"
      ]
     },
     "execution_count": 45,
     "metadata": {},
     "output_type": "execute_result"
    }
   ],
   "source": [
    "a[0][1]"
   ]
  },
  {
   "cell_type": "code",
   "execution_count": 46,
   "id": "dbbaa1e3",
   "metadata": {},
   "outputs": [
    {
     "data": {
      "text/plain": [
       "6666"
      ]
     },
     "execution_count": 46,
     "metadata": {},
     "output_type": "execute_result"
    }
   ],
   "source": [
    "a[1][1][-1]"
   ]
  },
  {
   "cell_type": "code",
   "execution_count": 47,
   "id": "b2d146a2",
   "metadata": {},
   "outputs": [
    {
     "data": {
      "text/plain": [
       "array([[[6666]]])"
      ]
     },
     "execution_count": 47,
     "metadata": {},
     "output_type": "execute_result"
    }
   ],
   "source": [
    "a[1:,1:,-1:]"
   ]
  },
  {
   "cell_type": "code",
   "execution_count": 48,
   "id": "2b46ba88",
   "metadata": {},
   "outputs": [
    {
     "name": "stdout",
     "output_type": "stream",
     "text": [
      "[[[   1    2    3    4    5    6]\n",
      "  [  11   22   33   44   55   66]]\n",
      "\n",
      " [[ 111  222  333  444  555  666]\n",
      "  [1111 2222 3333 4444 5555 6666]]]\n"
     ]
    },
    {
     "data": {
      "text/plain": [
       "3"
      ]
     },
     "execution_count": 48,
     "metadata": {},
     "output_type": "execute_result"
    }
   ],
   "source": [
    "a=np.array([[[1,2,3,4,5,6],[11,22,33,44,55,66]],[[111,222,333,444,555,666],[1111,2222,3333,4444,5555,6666]]])\n",
    "print(a)\n",
    "a.ndim"
   ]
  },
  {
   "cell_type": "code",
   "execution_count": 49,
   "id": "3ec0f789",
   "metadata": {},
   "outputs": [
    {
     "data": {
      "text/plain": [
       "array([[[2, 3]]])"
      ]
     },
     "execution_count": 49,
     "metadata": {},
     "output_type": "execute_result"
    }
   ],
   "source": [
    "a[0:1,0:1,1:3]"
   ]
  },
  {
   "cell_type": "code",
   "execution_count": 50,
   "id": "5d00fed8",
   "metadata": {},
   "outputs": [
    {
     "name": "stdout",
     "output_type": "stream",
     "text": [
      "[[[1 2 3 4 5 6]]]\n"
     ]
    },
    {
     "data": {
      "text/plain": [
       "3"
      ]
     },
     "execution_count": 50,
     "metadata": {},
     "output_type": "execute_result"
    }
   ],
   "source": [
    "a=np.array([[[1,2,3,4,5,6]]])\n",
    "print(a)\n",
    "a.ndim"
   ]
  },
  {
   "cell_type": "code",
   "execution_count": 51,
   "id": "95ce1178",
   "metadata": {},
   "outputs": [
    {
     "data": {
      "text/plain": [
       "6"
      ]
     },
     "execution_count": 51,
     "metadata": {},
     "output_type": "execute_result"
    }
   ],
   "source": [
    "a[0][0][-1]"
   ]
  },
  {
   "cell_type": "markdown",
   "id": "90e468e5",
   "metadata": {},
   "source": [
    "### Creating Randome numbers"
   ]
  },
  {
   "cell_type": "code",
   "execution_count": 52,
   "id": "8d5bb1fc",
   "metadata": {},
   "outputs": [
    {
     "data": {
      "text/plain": [
       "array([0.79743676, 0.4042442 , 0.95569591, 0.01806233, 0.26346297])"
      ]
     },
     "execution_count": 52,
     "metadata": {},
     "output_type": "execute_result"
    }
   ],
   "source": [
    "np.random.rand(5)"
   ]
  },
  {
   "cell_type": "code",
   "execution_count": 53,
   "id": "1b8aa10e",
   "metadata": {},
   "outputs": [
    {
     "data": {
      "text/plain": [
       "array([[0.47326432, 0.81932228, 0.5859867 , 0.14616429, 0.93782113],\n",
       "       [0.52847836, 0.44310774, 0.90736235, 0.82020886, 0.75201079],\n",
       "       [0.28194781, 0.62907047, 0.18059623, 0.50502316, 0.60361699],\n",
       "       [0.38369202, 0.29698014, 0.87509425, 0.33842021, 0.54483096]])"
      ]
     },
     "execution_count": 53,
     "metadata": {},
     "output_type": "execute_result"
    }
   ],
   "source": [
    "np.random.rand(4,5)"
   ]
  },
  {
   "cell_type": "markdown",
   "id": "2d69f8f1",
   "metadata": {},
   "source": [
    "### numpy functions()"
   ]
  },
  {
   "cell_type": "code",
   "execution_count": null,
   "id": "858e4521",
   "metadata": {},
   "outputs": [],
   "source": [
    "numpy.linspace:create an array with evenly spaced values over a specified range.\n",
    "numpy.logspace:create an array with evenly spaced values on a logarithmic scale,   \n"
   ]
  },
  {
   "cell_type": "markdown",
   "id": "281818e2",
   "metadata": {},
   "source": [
    "## 1.array()"
   ]
  },
  {
   "cell_type": "code",
   "execution_count": 54,
   "id": "12f51033",
   "metadata": {},
   "outputs": [
    {
     "data": {
      "text/plain": [
       "array([[ 5. ,  2. , 34.3],\n",
       "       [ 1. ,  2. ,  3. ]])"
      ]
     },
     "execution_count": 54,
     "metadata": {},
     "output_type": "execute_result"
    }
   ],
   "source": [
    "a=np.array([[5,2,34.3],[1,2,3]])\n",
    "a"
   ]
  },
  {
   "cell_type": "code",
   "execution_count": 55,
   "id": "9d486147",
   "metadata": {},
   "outputs": [
    {
     "data": {
      "text/plain": [
       "array([[0., 0., 0., 0., 0., 0.],\n",
       "       [0., 0., 0., 0., 0., 0.],\n",
       "       [0., 0., 0., 0., 0., 0.],\n",
       "       [0., 0., 0., 0., 0., 0.],\n",
       "       [0., 0., 0., 0., 0., 0.],\n",
       "       [0., 0., 0., 0., 0., 0.],\n",
       "       [0., 0., 0., 0., 0., 0.],\n",
       "       [0., 0., 0., 0., 0., 0.],\n",
       "       [0., 0., 0., 0., 0., 0.]])"
      ]
     },
     "execution_count": 55,
     "metadata": {},
     "output_type": "execute_result"
    }
   ],
   "source": [
    "np.zeros((9,6))"
   ]
  },
  {
   "cell_type": "code",
   "execution_count": 56,
   "id": "128fd865",
   "metadata": {},
   "outputs": [
    {
     "data": {
      "text/plain": [
       "array([[0., 0., 0.],\n",
       "       [0., 0., 0.]])"
      ]
     },
     "execution_count": 56,
     "metadata": {},
     "output_type": "execute_result"
    }
   ],
   "source": [
    "np.zeros_like(a)"
   ]
  },
  {
   "cell_type": "markdown",
   "id": "0d4cb39b",
   "metadata": {},
   "source": [
    "## 3.ones()"
   ]
  },
  {
   "cell_type": "code",
   "execution_count": 57,
   "id": "59c686d3",
   "metadata": {},
   "outputs": [
    {
     "data": {
      "text/plain": [
       "array([[1., 1., 1., 1., 1., 1.],\n",
       "       [1., 1., 1., 1., 1., 1.],\n",
       "       [1., 1., 1., 1., 1., 1.],\n",
       "       [1., 1., 1., 1., 1., 1.],\n",
       "       [1., 1., 1., 1., 1., 1.]])"
      ]
     },
     "execution_count": 57,
     "metadata": {},
     "output_type": "execute_result"
    }
   ],
   "source": [
    "np.ones((5,6))"
   ]
  },
  {
   "cell_type": "code",
   "execution_count": 58,
   "id": "30ad240f",
   "metadata": {},
   "outputs": [
    {
     "data": {
      "text/plain": [
       "array([[1., 1., 1.],\n",
       "       [1., 1., 1.]])"
      ]
     },
     "execution_count": 58,
     "metadata": {},
     "output_type": "execute_result"
    }
   ],
   "source": [
    "np.ones_like(a)"
   ]
  },
  {
   "cell_type": "markdown",
   "id": "3c5f1e2f",
   "metadata": {},
   "source": [
    "## 4.empty()"
   ]
  },
  {
   "cell_type": "code",
   "execution_count": 60,
   "id": "eaf3ba89",
   "metadata": {},
   "outputs": [
    {
     "data": {
      "text/plain": [
       "array(1.)"
      ]
     },
     "execution_count": 60,
     "metadata": {},
     "output_type": "execute_result"
    }
   ],
   "source": [
    "np.empty([])"
   ]
  },
  {
   "cell_type": "markdown",
   "id": "7aaf074b",
   "metadata": {},
   "source": [
    "## 5.arange()"
   ]
  },
  {
   "cell_type": "code",
   "execution_count": 61,
   "id": "e632298b",
   "metadata": {},
   "outputs": [
    {
     "data": {
      "text/plain": [
       "array([ 1,  3,  5,  7,  9, 11, 13, 15, 17, 19])"
      ]
     },
     "execution_count": 61,
     "metadata": {},
     "output_type": "execute_result"
    }
   ],
   "source": [
    "np.arange(1,20,2)        # same like in for loop\n"
   ]
  },
  {
   "cell_type": "markdown",
   "id": "8091d7fd",
   "metadata": {},
   "source": [
    "## 6.linespace()"
   ]
  },
  {
   "cell_type": "code",
   "execution_count": 63,
   "id": "a65cfb44",
   "metadata": {},
   "outputs": [
    {
     "data": {
      "text/plain": [
       "array([  1.  ,  25.75,  50.5 ,  75.25, 100.  ])"
      ]
     },
     "execution_count": 63,
     "metadata": {},
     "output_type": "execute_result"
    }
   ],
   "source": [
    "np.linspace(1,100,5)"
   ]
  },
  {
   "cell_type": "markdown",
   "id": "884fce94",
   "metadata": {},
   "source": [
    "## 7.logspace"
   ]
  },
  {
   "cell_type": "markdown",
   "id": "dd0e2b05",
   "metadata": {},
   "source": [
    "- Return number spaced evenly on a log scale\n",
    "- LOG-Base10"
   ]
  },
  {
   "cell_type": "code",
   "execution_count": 71,
   "id": "7099ba62",
   "metadata": {},
   "outputs": [
    {
     "data": {
      "text/plain": [
       "array([1.00000000e+001, 1.04811313e+003, 1.09854114e+005, 1.15139540e+007,\n",
       "       1.20679264e+009, 1.26485522e+011, 1.32571137e+013, 1.38949549e+015,\n",
       "       1.45634848e+017, 1.52641797e+019, 1.59985872e+021, 1.67683294e+023,\n",
       "       1.75751062e+025, 1.84206997e+027, 1.93069773e+029, 2.02358965e+031,\n",
       "       2.12095089e+033, 2.22299648e+035, 2.32995181e+037, 2.44205309e+039,\n",
       "       2.55954792e+041, 2.68269580e+043, 2.81176870e+045, 2.94705170e+047,\n",
       "       3.08884360e+049, 3.23745754e+051, 3.39322177e+053, 3.55648031e+055,\n",
       "       3.72759372e+057, 3.90693994e+059, 4.09491506e+061, 4.29193426e+063,\n",
       "       4.49843267e+065, 4.71486636e+067, 4.94171336e+069, 5.17947468e+071,\n",
       "       5.42867544e+073, 5.68986603e+075, 5.96362332e+077, 6.25055193e+079,\n",
       "       6.55128557e+081, 6.86648845e+083, 7.19685673e+085, 7.54312006e+087,\n",
       "       7.90604321e+089, 8.28642773e+091, 8.68511374e+093, 9.10298178e+095,\n",
       "       9.54095476e+097, 1.00000000e+100])"
      ]
     },
     "execution_count": 71,
     "metadata": {},
     "output_type": "execute_result"
    }
   ],
   "source": [
    "np.logspace(1,100)"
   ]
  },
  {
   "cell_type": "markdown",
   "id": "873ea5f4",
   "metadata": {},
   "source": [
    "# Manipulation function"
   ]
  },
  {
   "cell_type": "code",
   "execution_count": 73,
   "id": "f5c888d0",
   "metadata": {},
   "outputs": [
    {
     "data": {
      "text/plain": [
       "array([[ 5. ,  2. , 24.3],\n",
       "       [ 1. ,  2. ,  3. ]])"
      ]
     },
     "execution_count": 73,
     "metadata": {},
     "output_type": "execute_result"
    }
   ],
   "source": [
    "a=np.array([[5,2,24.3],[1,2,3]])\n",
    "a"
   ]
  },
  {
   "cell_type": "markdown",
   "id": "822ddfb2",
   "metadata": {},
   "source": [
    "## reshape()"
   ]
  },
  {
   "cell_type": "code",
   "execution_count": 74,
   "id": "96454514",
   "metadata": {},
   "outputs": [
    {
     "data": {
      "text/plain": [
       "array([[2, 8, 7, 3, 3, 1, 9, 7, 1, 3],\n",
       "       [8, 4, 6, 1, 1, 1, 2, 1, 3, 3],\n",
       "       [4, 9, 6, 8, 1, 3, 5, 8, 7, 2],\n",
       "       [9, 3, 1, 1, 8, 1, 6, 6, 1, 4],\n",
       "       [7, 8, 1, 4, 9, 6, 6, 5, 6, 6]])"
      ]
     },
     "execution_count": 74,
     "metadata": {},
     "output_type": "execute_result"
    }
   ],
   "source": [
    "a=np.random.randint(1,10,(5,10))\n",
    "a"
   ]
  },
  {
   "cell_type": "code",
   "execution_count": 75,
   "id": "43316901",
   "metadata": {},
   "outputs": [],
   "source": [
    "b=a.reshape(25,2)"
   ]
  },
  {
   "cell_type": "code",
   "execution_count": 76,
   "id": "cde1445c",
   "metadata": {},
   "outputs": [
    {
     "data": {
      "text/plain": [
       "array([[2, 8],\n",
       "       [7, 3],\n",
       "       [3, 1],\n",
       "       [9, 7],\n",
       "       [1, 3],\n",
       "       [8, 4],\n",
       "       [6, 1],\n",
       "       [1, 1],\n",
       "       [2, 1],\n",
       "       [3, 3],\n",
       "       [4, 9],\n",
       "       [6, 8],\n",
       "       [1, 3],\n",
       "       [5, 8],\n",
       "       [7, 2],\n",
       "       [9, 3],\n",
       "       [1, 1],\n",
       "       [8, 1],\n",
       "       [6, 6],\n",
       "       [1, 4],\n",
       "       [7, 8],\n",
       "       [1, 4],\n",
       "       [9, 6],\n",
       "       [6, 5],\n",
       "       [6, 6]])"
      ]
     },
     "execution_count": 76,
     "metadata": {},
     "output_type": "execute_result"
    }
   ],
   "source": [
    "b"
   ]
  },
  {
   "cell_type": "markdown",
   "id": "2381d758",
   "metadata": {},
   "source": [
    "### 2 Transpose"
   ]
  },
  {
   "cell_type": "code",
   "execution_count": 2,
   "id": "bc14edc0",
   "metadata": {},
   "outputs": [],
   "source": [
    "import numpy as np        "
   ]
  },
  {
   "cell_type": "code",
   "execution_count": 3,
   "id": "8de5dbbc",
   "metadata": {},
   "outputs": [
    {
     "data": {
      "text/plain": [
       "array([[1, 2, 3, 4],\n",
       "       [5, 6, 7, 8]])"
      ]
     },
     "execution_count": 3,
     "metadata": {},
     "output_type": "execute_result"
    }
   ],
   "source": [
    "y=np.array([[1,2,3,4],[5,6,7,8]])\n",
    "y"
   ]
  },
  {
   "cell_type": "code",
   "execution_count": 4,
   "id": "8da75c3b",
   "metadata": {},
   "outputs": [
    {
     "data": {
      "text/plain": [
       "array([[1, 5],\n",
       "       [2, 6],\n",
       "       [3, 7],\n",
       "       [4, 8]])"
      ]
     },
     "execution_count": 4,
     "metadata": {},
     "output_type": "execute_result"
    }
   ],
   "source": [
    "y.transpose()   # row ro col and col to row"
   ]
  },
  {
   "cell_type": "markdown",
   "id": "03ad20e5",
   "metadata": {},
   "source": [
    "### 3. Concatination"
   ]
  },
  {
   "cell_type": "code",
   "execution_count": 7,
   "id": "b6918c33",
   "metadata": {},
   "outputs": [
    {
     "data": {
      "text/plain": [
       "array([[ 5. ,  2. , 24.3],\n",
       "       [ 1. ,  2. ,  3. ]])"
      ]
     },
     "execution_count": 7,
     "metadata": {},
     "output_type": "execute_result"
    }
   ],
   "source": [
    "a=np.array([[5,2,24.3],[1,2,3]])\n",
    "a"
   ]
  },
  {
   "cell_type": "code",
   "execution_count": 10,
   "id": "c2fd919a",
   "metadata": {},
   "outputs": [
    {
     "data": {
      "text/plain": [
       "array([ 5. ,  2. , 24.3,  1. ,  2. ,  3. ])"
      ]
     },
     "execution_count": 10,
     "metadata": {},
     "output_type": "execute_result"
    }
   ],
   "source": [
    "np.concatenate(a)"
   ]
  },
  {
   "cell_type": "code",
   "execution_count": 11,
   "id": "898a41a3",
   "metadata": {},
   "outputs": [
    {
     "data": {
      "text/plain": [
       "array([[1, 2, 3, 4],\n",
       "       [5, 6, 7, 8]])"
      ]
     },
     "execution_count": 11,
     "metadata": {},
     "output_type": "execute_result"
    }
   ],
   "source": [
    "y=np.array([[1,2,3,4],[5,6,7,8]])\n",
    "y"
   ]
  },
  {
   "cell_type": "code",
   "execution_count": 13,
   "id": "42ec7c69",
   "metadata": {},
   "outputs": [
    {
     "data": {
      "text/plain": [
       "array([1, 2, 3, 4, 5, 6, 7, 8])"
      ]
     },
     "execution_count": 13,
     "metadata": {},
     "output_type": "execute_result"
    }
   ],
   "source": [
    "np.concatenate(y)"
   ]
  },
  {
   "cell_type": "markdown",
   "id": "64df5fe8",
   "metadata": {},
   "source": [
    "## vstact()"
   ]
  },
  {
   "cell_type": "code",
   "execution_count": 14,
   "id": "071bfb77",
   "metadata": {},
   "outputs": [
    {
     "data": {
      "text/plain": [
       "array([[1, 2, 3, 4],\n",
       "       [5, 6, 7, 8]])"
      ]
     },
     "execution_count": 14,
     "metadata": {},
     "output_type": "execute_result"
    }
   ],
   "source": [
    "y=np.array([[1,2,3,4],[5,6,7,8]])\n",
    "y"
   ]
  },
  {
   "cell_type": "code",
   "execution_count": 16,
   "id": "628b9843",
   "metadata": {},
   "outputs": [
    {
     "data": {
      "text/plain": [
       "array([[1, 2, 3, 4],\n",
       "       [5, 6, 7, 8]])"
      ]
     },
     "execution_count": 16,
     "metadata": {},
     "output_type": "execute_result"
    }
   ],
   "source": [
    "np.vstack(y)"
   ]
  },
  {
   "cell_type": "markdown",
   "id": "89209c18",
   "metadata": {},
   "source": [
    "### Hstack"
   ]
  },
  {
   "cell_type": "code",
   "execution_count": 17,
   "id": "dae64115",
   "metadata": {},
   "outputs": [
    {
     "data": {
      "text/plain": [
       "array([ 5. ,  2. , 24.3,  1. ,  2. ,  3. ])"
      ]
     },
     "execution_count": 17,
     "metadata": {},
     "output_type": "execute_result"
    }
   ],
   "source": [
    "a=np.array([[5,2,24.3],[1,2,3]])\n",
    "np.hstack(a)"
   ]
  },
  {
   "cell_type": "markdown",
   "id": "d9b722f6",
   "metadata": {},
   "source": [
    "### Random"
   ]
  },
  {
   "cell_type": "code",
   "execution_count": 18,
   "id": "e4515b40",
   "metadata": {},
   "outputs": [
    {
     "name": "stdout",
     "output_type": "stream",
     "text": [
      "[[[0.08809326 0.73161391 0.85298195 0.29069972]\n",
      "  [0.75618406 0.00602076 0.12385555 0.48061709]\n",
      "  [0.4818984  0.6854544  0.33059543 0.45081934]\n",
      "  [0.60080307 0.71982464 0.82909393 0.54637376]]\n",
      "\n",
      " [[0.25479828 0.09274053 0.04730419 0.31815958]\n",
      "  [0.01910915 0.55066361 0.68255416 0.17235412]\n",
      "  [0.50728115 0.57083825 0.55215656 0.76181392]\n",
      "  [0.69595659 0.01407956 0.26781441 0.09115317]]\n",
      "\n",
      " [[0.97745334 0.76459642 0.24137304 0.62054091]\n",
      "  [0.10071092 0.87765461 0.2726249  0.18239474]\n",
      "  [0.45346391 0.82273223 0.6611262  0.75032357]\n",
      "  [0.57470844 0.1227266  0.13916425 0.64884114]]\n",
      "\n",
      " [[0.37705206 0.80437188 0.94489872 0.3723973 ]\n",
      "  [0.59684925 0.03974677 0.39218654 0.7668624 ]\n",
      "  [0.26179393 0.93834747 0.75790487 0.81401572]\n",
      "  [0.74485184 0.20792131 0.45383118 0.70621156]]]\n"
     ]
    },
    {
     "data": {
      "text/plain": [
       "3"
      ]
     },
     "execution_count": 18,
     "metadata": {},
     "output_type": "execute_result"
    }
   ],
   "source": [
    "a=np.random.rand(4,4,4)\n",
    "print(a)\n",
    "a.ndim"
   ]
  },
  {
   "cell_type": "code",
   "execution_count": 19,
   "id": "13ade1a1",
   "metadata": {},
   "outputs": [
    {
     "data": {
      "text/plain": [
       "array([[5, 8, 4],\n",
       "       [1, 9, 1]])"
      ]
     },
     "execution_count": 19,
     "metadata": {},
     "output_type": "execute_result"
    }
   ],
   "source": [
    "np.random.randint(1,10,(2,3))"
   ]
  },
  {
   "cell_type": "code",
   "execution_count": 20,
   "id": "5fe48d32",
   "metadata": {},
   "outputs": [
    {
     "data": {
      "text/plain": [
       "array([[9, 9, 9, 9, 3, 2],\n",
       "       [1, 5, 4, 2, 5, 3],\n",
       "       [6, 4, 7, 7, 5, 9],\n",
       "       [9, 7, 1, 6, 6, 4],\n",
       "       [7, 2, 6, 4, 5, 4],\n",
       "       [3, 5, 3, 8, 1, 8]])"
      ]
     },
     "execution_count": 20,
     "metadata": {},
     "output_type": "execute_result"
    }
   ],
   "source": [
    "x=np.random.randint(1,10,(6,6))       #36=(2,18),(3,12),(12,3)\n",
    "x"
   ]
  },
  {
   "cell_type": "markdown",
   "id": "4a9bb5c8",
   "metadata": {},
   "source": [
    "### Full"
   ]
  },
  {
   "cell_type": "markdown",
   "id": "178c43bf",
   "metadata": {},
   "source": [
    "- Return a new array of given shape and type ,filled with filll_value"
   ]
  },
  {
   "cell_type": "code",
   "execution_count": 21,
   "id": "177c77ba",
   "metadata": {},
   "outputs": [
    {
     "data": {
      "text/plain": [
       "array([[100, 100, 100, 100, 100],\n",
       "       [100, 100, 100, 100, 100],\n",
       "       [100, 100, 100, 100, 100],\n",
       "       [100, 100, 100, 100, 100],\n",
       "       [100, 100, 100, 100, 100]])"
      ]
     },
     "execution_count": 21,
     "metadata": {},
     "output_type": "execute_result"
    }
   ],
   "source": [
    "np.full((5,5),100)"
   ]
  },
  {
   "cell_type": "code",
   "execution_count": 22,
   "id": "470fdb22",
   "metadata": {},
   "outputs": [
    {
     "data": {
      "text/plain": [
       "array([['ms', 'ms', 'ms', 'ms', 'ms', 'ms', 'ms', 'ms'],\n",
       "       ['ms', 'ms', 'ms', 'ms', 'ms', 'ms', 'ms', 'ms'],\n",
       "       ['ms', 'ms', 'ms', 'ms', 'ms', 'ms', 'ms', 'ms'],\n",
       "       ['ms', 'ms', 'ms', 'ms', 'ms', 'ms', 'ms', 'ms']], dtype='<U2')"
      ]
     },
     "execution_count": 22,
     "metadata": {},
     "output_type": "execute_result"
    }
   ],
   "source": [
    "a=np.full((4,8),\"ms\")\n",
    "a"
   ]
  },
  {
   "cell_type": "code",
   "execution_count": 23,
   "id": "91182488",
   "metadata": {},
   "outputs": [
    {
     "data": {
      "text/plain": [
       "array([['15', '15', '15', '15', '15', '15', '15', '15'],\n",
       "       ['15', '15', '15', '15', '15', '15', '15', '15'],\n",
       "       ['15', '15', '15', '15', '15', '15', '15', '15'],\n",
       "       ['15', '15', '15', '15', '15', '15', '15', '15']], dtype='<U2')"
      ]
     },
     "execution_count": 23,
     "metadata": {},
     "output_type": "execute_result"
    }
   ],
   "source": [
    "np.full_like(a,15)"
   ]
  },
  {
   "cell_type": "markdown",
   "id": "2427d60b",
   "metadata": {},
   "source": [
    "### eye"
   ]
  },
  {
   "cell_type": "markdown",
   "id": "b32a5be2",
   "metadata": {},
   "source": [
    "- Return  a 2-D array with ones on the diagonal and zero elsewhere"
   ]
  },
  {
   "cell_type": "code",
   "execution_count": 24,
   "id": "8cea2af1",
   "metadata": {},
   "outputs": [
    {
     "data": {
      "text/plain": [
       "array([[1., 0., 0., 0., 0., 0.],\n",
       "       [0., 1., 0., 0., 0., 0.],\n",
       "       [0., 0., 1., 0., 0., 0.],\n",
       "       [0., 0., 0., 1., 0., 0.],\n",
       "       [0., 0., 0., 0., 1., 0.]])"
      ]
     },
     "execution_count": 24,
     "metadata": {},
     "output_type": "execute_result"
    }
   ],
   "source": [
    "np.eye(5,6)"
   ]
  },
  {
   "cell_type": "code",
   "execution_count": 25,
   "id": "73fb0e26",
   "metadata": {},
   "outputs": [
    {
     "data": {
      "text/plain": [
       "array([[1., 0., 0., 0., 0., 0., 0.],\n",
       "       [0., 1., 0., 0., 0., 0., 0.],\n",
       "       [0., 0., 1., 0., 0., 0., 0.],\n",
       "       [0., 0., 0., 1., 0., 0., 0.],\n",
       "       [0., 0., 0., 0., 1., 0., 0.]])"
      ]
     },
     "execution_count": 25,
     "metadata": {},
     "output_type": "execute_result"
    }
   ],
   "source": [
    "np.eye(5,7)"
   ]
  },
  {
   "cell_type": "code",
   "execution_count": 26,
   "id": "56b5cba4",
   "metadata": {},
   "outputs": [
    {
     "data": {
      "text/plain": [
       "array([[1., 0., 0., 0., 0., 0., 0., 0., 0., 0.],\n",
       "       [0., 1., 0., 0., 0., 0., 0., 0., 0., 0.],\n",
       "       [0., 0., 1., 0., 0., 0., 0., 0., 0., 0.],\n",
       "       [0., 0., 0., 1., 0., 0., 0., 0., 0., 0.],\n",
       "       [0., 0., 0., 0., 1., 0., 0., 0., 0., 0.],\n",
       "       [0., 0., 0., 0., 0., 1., 0., 0., 0., 0.],\n",
       "       [0., 0., 0., 0., 0., 0., 1., 0., 0., 0.],\n",
       "       [0., 0., 0., 0., 0., 0., 0., 1., 0., 0.],\n",
       "       [0., 0., 0., 0., 0., 0., 0., 0., 1., 0.],\n",
       "       [0., 0., 0., 0., 0., 0., 0., 0., 0., 1.]])"
      ]
     },
     "execution_count": 26,
     "metadata": {},
     "output_type": "execute_result"
    }
   ],
   "source": [
    "np.eye(10,10)"
   ]
  },
  {
   "cell_type": "code",
   "execution_count": 27,
   "id": "5e9eee32",
   "metadata": {},
   "outputs": [
    {
     "data": {
      "text/plain": [
       "array([[0., 0., 0., 1., 0.],\n",
       "       [0., 0., 0., 0., 1.],\n",
       "       [0., 0., 0., 0., 0.],\n",
       "       [0., 0., 0., 0., 0.],\n",
       "       [0., 0., 0., 0., 0.]])"
      ]
     },
     "execution_count": 27,
     "metadata": {},
     "output_type": "execute_result"
    }
   ],
   "source": [
    "np.eye(5,k=3)"
   ]
  },
  {
   "cell_type": "code",
   "execution_count": 28,
   "id": "b085d57d",
   "metadata": {},
   "outputs": [
    {
     "data": {
      "text/plain": [
       "array([[0., 0., 0., 0., 0., 0., 0., 0., 0., 0.],\n",
       "       [0., 0., 0., 0., 0., 0., 0., 0., 0., 0.],\n",
       "       [1., 0., 0., 0., 0., 0., 0., 0., 0., 0.],\n",
       "       [0., 1., 0., 0., 0., 0., 0., 0., 0., 0.],\n",
       "       [0., 0., 1., 0., 0., 0., 0., 0., 0., 0.],\n",
       "       [0., 0., 0., 1., 0., 0., 0., 0., 0., 0.],\n",
       "       [0., 0., 0., 0., 1., 0., 0., 0., 0., 0.],\n",
       "       [0., 0., 0., 0., 0., 1., 0., 0., 0., 0.],\n",
       "       [0., 0., 0., 0., 0., 0., 1., 0., 0., 0.],\n",
       "       [0., 0., 0., 0., 0., 0., 0., 1., 0., 0.]])"
      ]
     },
     "execution_count": 28,
     "metadata": {},
     "output_type": "execute_result"
    }
   ],
   "source": [
    "np.eye(10,k=-2)"
   ]
  },
  {
   "cell_type": "markdown",
   "id": "59fb1897",
   "metadata": {},
   "source": [
    "### Where"
   ]
  },
  {
   "cell_type": "code",
   "execution_count": 29,
   "id": "8c8ad9fc",
   "metadata": {},
   "outputs": [
    {
     "data": {
      "text/plain": [
       "array([ 3,  4,  5,  6,  7,  8,  9, 10, 11, 12, 13, 14, 15, 16, 17, 18, 19,\n",
       "       20, 21, 22, 23, 24, 25, 26, 27, 28, 29, 30, 31, 32, 33, 34, 35, 36,\n",
       "       37, 38, 39, 40, 41, 42, 43, 44, 45, 46, 47, 48, 49])"
      ]
     },
     "execution_count": 29,
     "metadata": {},
     "output_type": "execute_result"
    }
   ],
   "source": [
    "z=np.arange(3,50)\n",
    "z"
   ]
  },
  {
   "cell_type": "code",
   "execution_count": 30,
   "id": "4e1b1729",
   "metadata": {},
   "outputs": [
    {
     "data": {
      "text/plain": [
       "(array([ 0,  1,  2,  3,  4,  5,  6,  7,  8,  9, 10, 11], dtype=int64),)"
      ]
     },
     "execution_count": 30,
     "metadata": {},
     "output_type": "execute_result"
    }
   ],
   "source": [
    "np.where(z<15)\n",
    "#it give position of that element with satisfy the condition"
   ]
  },
  {
   "cell_type": "code",
   "execution_count": 31,
   "id": "e833de2f",
   "metadata": {},
   "outputs": [
    {
     "data": {
      "text/plain": [
       "(array([ 1,  3,  5,  7,  9, 11, 13, 15, 17, 19, 21, 23, 25, 27, 29, 31, 33,\n",
       "        35, 37, 39, 41, 43, 45], dtype=int64),)"
      ]
     },
     "execution_count": 31,
     "metadata": {},
     "output_type": "execute_result"
    }
   ],
   "source": [
    "np.where(z%2==0)"
   ]
  },
  {
   "cell_type": "code",
   "execution_count": 32,
   "id": "a6cd4fb4",
   "metadata": {},
   "outputs": [
    {
     "data": {
      "text/plain": [
       "(array([3], dtype=int64),)"
      ]
     },
     "execution_count": 32,
     "metadata": {},
     "output_type": "execute_result"
    }
   ],
   "source": [
    "np.where(z==6)"
   ]
  },
  {
   "cell_type": "markdown",
   "id": "206f0902",
   "metadata": {},
   "source": [
    "### Split"
   ]
  },
  {
   "cell_type": "markdown",
   "id": "839140db",
   "metadata": {},
   "source": [
    "- split an array into multiple sub-array"
   ]
  },
  {
   "cell_type": "code",
   "execution_count": 34,
   "id": "3d7a2744",
   "metadata": {},
   "outputs": [
    {
     "data": {
      "text/plain": [
       "array([0, 1, 2, 3, 4, 5, 6, 7, 8, 9])"
      ]
     },
     "execution_count": 34,
     "metadata": {},
     "output_type": "execute_result"
    }
   ],
   "source": [
    "e=np.arange(0,10)\n",
    "e"
   ]
  },
  {
   "cell_type": "code",
   "execution_count": 35,
   "id": "0cf65cb9",
   "metadata": {},
   "outputs": [
    {
     "data": {
      "text/plain": [
       "[array([0, 1]), array([2, 3]), array([4, 5]), array([6, 7]), array([8, 9])]"
      ]
     },
     "execution_count": 35,
     "metadata": {},
     "output_type": "execute_result"
    }
   ],
   "source": [
    "np.split(e,5)"
   ]
  },
  {
   "cell_type": "code",
   "execution_count": 36,
   "id": "cfb3e585",
   "metadata": {},
   "outputs": [
    {
     "data": {
      "text/plain": [
       "[array([0, 1, 2, 3, 4]), array([5, 6, 7, 8, 9])]"
      ]
     },
     "execution_count": 36,
     "metadata": {},
     "output_type": "execute_result"
    }
   ],
   "source": [
    "np.split(e,2)"
   ]
  },
  {
   "cell_type": "code",
   "execution_count": 37,
   "id": "4241ac67",
   "metadata": {},
   "outputs": [],
   "source": [
    "a,b=np.split(e,2)"
   ]
  },
  {
   "cell_type": "code",
   "execution_count": 38,
   "id": "d282c66d",
   "metadata": {},
   "outputs": [
    {
     "data": {
      "text/plain": [
       "array([0, 1, 2, 3, 4])"
      ]
     },
     "execution_count": 38,
     "metadata": {},
     "output_type": "execute_result"
    }
   ],
   "source": [
    "a"
   ]
  },
  {
   "cell_type": "markdown",
   "id": "117205c9",
   "metadata": {},
   "source": [
    "### Arithmatic Operation in numpy"
   ]
  },
  {
   "cell_type": "code",
   "execution_count": 39,
   "id": "10395252",
   "metadata": {},
   "outputs": [],
   "source": [
    "import numpy as np"
   ]
  },
  {
   "cell_type": "code",
   "execution_count": 40,
   "id": "a3cd830d",
   "metadata": {},
   "outputs": [],
   "source": [
    "a=np.array([[1,2,10],[5,7,8]])\n",
    "b=np.array([[10,20,7],[50,70,7]])"
   ]
  },
  {
   "cell_type": "code",
   "execution_count": 41,
   "id": "7c50f8e0",
   "metadata": {},
   "outputs": [
    {
     "data": {
      "text/plain": [
       "array([[ 1,  2, 10],\n",
       "       [ 5,  7,  8]])"
      ]
     },
     "execution_count": 41,
     "metadata": {},
     "output_type": "execute_result"
    }
   ],
   "source": [
    "a"
   ]
  },
  {
   "cell_type": "code",
   "execution_count": 42,
   "id": "72383bff",
   "metadata": {},
   "outputs": [
    {
     "data": {
      "text/plain": [
       "array([[10, 20,  7],\n",
       "       [50, 70,  7]])"
      ]
     },
     "execution_count": 42,
     "metadata": {},
     "output_type": "execute_result"
    }
   ],
   "source": [
    "b"
   ]
  },
  {
   "cell_type": "markdown",
   "id": "885a9e9c",
   "metadata": {},
   "source": [
    "## add()"
   ]
  },
  {
   "cell_type": "code",
   "execution_count": 43,
   "id": "9596e7ce",
   "metadata": {},
   "outputs": [
    {
     "data": {
      "text/plain": [
       "array([[11, 22, 17],\n",
       "       [55, 77, 15]])"
      ]
     },
     "execution_count": 43,
     "metadata": {},
     "output_type": "execute_result"
    }
   ],
   "source": [
    "a+b    #using operators(+)"
   ]
  },
  {
   "cell_type": "code",
   "execution_count": 44,
   "id": "85408340",
   "metadata": {},
   "outputs": [
    {
     "data": {
      "text/plain": [
       "array([[11, 22, 17],\n",
       "       [55, 77, 15]])"
      ]
     },
     "execution_count": 44,
     "metadata": {},
     "output_type": "execute_result"
    }
   ],
   "source": [
    "np.add(a,b)"
   ]
  },
  {
   "cell_type": "markdown",
   "id": "165671e0",
   "metadata": {},
   "source": [
    "### sub()"
   ]
  },
  {
   "cell_type": "code",
   "execution_count": 45,
   "id": "deed08fd",
   "metadata": {},
   "outputs": [
    {
     "data": {
      "text/plain": [
       "array([[ -9, -18,   3],\n",
       "       [-45, -63,   1]])"
      ]
     },
     "execution_count": 45,
     "metadata": {},
     "output_type": "execute_result"
    }
   ],
   "source": [
    "np.subtract(a,b)"
   ]
  },
  {
   "cell_type": "markdown",
   "id": "b5891e1e",
   "metadata": {},
   "source": [
    "## mult()"
   ]
  },
  {
   "cell_type": "code",
   "execution_count": 47,
   "id": "124b1d27",
   "metadata": {},
   "outputs": [
    {
     "data": {
      "text/plain": [
       "array([[ 10,  40,  70],\n",
       "       [250, 490,  56]])"
      ]
     },
     "execution_count": 47,
     "metadata": {},
     "output_type": "execute_result"
    }
   ],
   "source": [
    "np.multiply(a,b)"
   ]
  },
  {
   "cell_type": "code",
   "execution_count": 48,
   "id": "66e2e5ba",
   "metadata": {},
   "outputs": [],
   "source": [
    "a=np.array([[1,2,3],[2,3,4]])\n",
    "b=np.array([[1,2,3],[2,3,4]])"
   ]
  },
  {
   "cell_type": "code",
   "execution_count": 49,
   "id": "3e86e32a",
   "metadata": {},
   "outputs": [
    {
     "data": {
      "text/plain": [
       "array([[ 1,  4,  9],\n",
       "       [ 4,  9, 16]])"
      ]
     },
     "execution_count": 49,
     "metadata": {},
     "output_type": "execute_result"
    }
   ],
   "source": [
    "a*b"
   ]
  },
  {
   "cell_type": "code",
   "execution_count": 50,
   "id": "ee55798b",
   "metadata": {},
   "outputs": [
    {
     "data": {
      "text/plain": [
       "array([[1., 1., 1.],\n",
       "       [1., 1., 1.]])"
      ]
     },
     "execution_count": 50,
     "metadata": {},
     "output_type": "execute_result"
    }
   ],
   "source": [
    "np.divide(a,b)"
   ]
  },
  {
   "cell_type": "code",
   "execution_count": 51,
   "id": "9a76d102",
   "metadata": {},
   "outputs": [
    {
     "data": {
      "text/plain": [
       "array([[0, 0, 0],\n",
       "       [0, 0, 0]])"
      ]
     },
     "execution_count": 51,
     "metadata": {},
     "output_type": "execute_result"
    }
   ],
   "source": [
    "np.mod(a,b)"
   ]
  },
  {
   "cell_type": "code",
   "execution_count": 52,
   "id": "58377cde",
   "metadata": {},
   "outputs": [
    {
     "data": {
      "text/plain": [
       "array([[  1,   4,  27],\n",
       "       [  4,  27, 256]])"
      ]
     },
     "execution_count": 52,
     "metadata": {},
     "output_type": "execute_result"
    }
   ],
   "source": [
    "np.power(a,b)"
   ]
  },
  {
   "cell_type": "markdown",
   "id": "59ecc789",
   "metadata": {},
   "source": [
    "### Statistics"
   ]
  },
  {
   "cell_type": "code",
   "execution_count": 53,
   "id": "8c18709d",
   "metadata": {},
   "outputs": [],
   "source": [
    "import numpy as np"
   ]
  },
  {
   "cell_type": "code",
   "execution_count": 54,
   "id": "5ecd2c46",
   "metadata": {},
   "outputs": [
    {
     "data": {
      "text/plain": [
       "2"
      ]
     },
     "execution_count": 54,
     "metadata": {},
     "output_type": "execute_result"
    }
   ],
   "source": [
    "s=np.array([[50,10,30],[500,100,300],[5,1,3]])\n",
    "s.ndim"
   ]
  },
  {
   "cell_type": "code",
   "execution_count": 55,
   "id": "0034a390",
   "metadata": {},
   "outputs": [
    {
     "data": {
      "text/plain": [
       "array([[ 50,  10,  30],\n",
       "       [500, 100, 300],\n",
       "       [  5,   1,   3]])"
      ]
     },
     "execution_count": 55,
     "metadata": {},
     "output_type": "execute_result"
    }
   ],
   "source": [
    "s"
   ]
  },
  {
   "cell_type": "code",
   "execution_count": 56,
   "id": "25043f3b",
   "metadata": {},
   "outputs": [
    {
     "data": {
      "text/plain": [
       "array([[ 50,  17,   4],\n",
       "       [ 50, 140,   0],\n",
       "       [ 15,   1,   3]])"
      ]
     },
     "execution_count": 56,
     "metadata": {},
     "output_type": "execute_result"
    }
   ],
   "source": [
    "b=np.array([[50,17,4],[50,140,0],[15,1,3]])\n",
    "b"
   ]
  },
  {
   "cell_type": "code",
   "execution_count": 57,
   "id": "e4bbb670",
   "metadata": {},
   "outputs": [
    {
     "data": {
      "text/plain": [
       "array([ 50, 140,  15])"
      ]
     },
     "execution_count": 57,
     "metadata": {},
     "output_type": "execute_result"
    }
   ],
   "source": [
    "np.amax(b,axis=1)     #0=row , 1=col"
   ]
  },
  {
   "cell_type": "code",
   "execution_count": 58,
   "id": "de59dbca",
   "metadata": {},
   "outputs": [
    {
     "data": {
      "text/plain": [
       "array([5, 1, 3])"
      ]
     },
     "execution_count": 58,
     "metadata": {},
     "output_type": "execute_result"
    }
   ],
   "source": [
    "np.amin(s,axis=0)"
   ]
  },
  {
   "cell_type": "code",
   "execution_count": 59,
   "id": "8c07828d",
   "metadata": {},
   "outputs": [
    {
     "data": {
      "text/plain": [
       "500"
      ]
     },
     "execution_count": 59,
     "metadata": {},
     "output_type": "execute_result"
    }
   ],
   "source": [
    "np.amax(s)"
   ]
  },
  {
   "cell_type": "code",
   "execution_count": 60,
   "id": "7746c0f9",
   "metadata": {},
   "outputs": [
    {
     "data": {
      "text/plain": [
       "array([500, 100, 300])"
      ]
     },
     "execution_count": 60,
     "metadata": {},
     "output_type": "execute_result"
    }
   ],
   "source": [
    "np.amax(s,axis=0)"
   ]
  },
  {
   "cell_type": "code",
   "execution_count": 61,
   "id": "74978607",
   "metadata": {},
   "outputs": [
    {
     "data": {
      "text/plain": [
       "array([ 50, 500,   5])"
      ]
     },
     "execution_count": 61,
     "metadata": {},
     "output_type": "execute_result"
    }
   ],
   "source": [
    "np.amax(s,axis=1)"
   ]
  },
  {
   "cell_type": "code",
   "execution_count": 62,
   "id": "4520587a",
   "metadata": {},
   "outputs": [
    {
     "data": {
      "text/plain": [
       "array([[ 50,  17,   4],\n",
       "       [ 50, 140,   0],\n",
       "       [ 15,   1,   3]])"
      ]
     },
     "execution_count": 62,
     "metadata": {},
     "output_type": "execute_result"
    }
   ],
   "source": [
    "b"
   ]
  },
  {
   "cell_type": "code",
   "execution_count": 63,
   "id": "3a55ee7e",
   "metadata": {},
   "outputs": [
    {
     "data": {
      "text/plain": [
       "31.11111111111111"
      ]
     },
     "execution_count": 63,
     "metadata": {},
     "output_type": "execute_result"
    }
   ],
   "source": [
    "np.mean(b)"
   ]
  },
  {
   "cell_type": "code",
   "execution_count": 64,
   "id": "c752fb92",
   "metadata": {},
   "outputs": [
    {
     "data": {
      "text/plain": [
       "31.11111111111111"
      ]
     },
     "execution_count": 64,
     "metadata": {},
     "output_type": "execute_result"
    }
   ],
   "source": [
    "(50+50+15+17+140+1+4+3)/9"
   ]
  },
  {
   "cell_type": "code",
   "execution_count": 65,
   "id": "6b44fcad",
   "metadata": {},
   "outputs": [
    {
     "data": {
      "text/plain": [
       "26960.666666666668"
      ]
     },
     "execution_count": 65,
     "metadata": {},
     "output_type": "execute_result"
    }
   ],
   "source": [
    "np.var(s)"
   ]
  },
  {
   "cell_type": "code",
   "execution_count": 66,
   "id": "e97fbd5f",
   "metadata": {},
   "outputs": [
    {
     "data": {
      "text/plain": [
       "164.1970361080451"
      ]
     },
     "execution_count": 66,
     "metadata": {},
     "output_type": "execute_result"
    }
   ],
   "source": [
    "np.std(s)"
   ]
  },
  {
   "cell_type": "markdown",
   "id": "417a5e48",
   "metadata": {},
   "source": [
    "## Datatype"
   ]
  },
  {
   "cell_type": "code",
   "execution_count": 67,
   "id": "295ef9a3",
   "metadata": {},
   "outputs": [
    {
     "data": {
      "text/plain": [
       "dtype('int32')"
      ]
     },
     "execution_count": 67,
     "metadata": {},
     "output_type": "execute_result"
    }
   ],
   "source": [
    "a=np.array([2555])\n",
    "a.dtype"
   ]
  },
  {
   "cell_type": "code",
   "execution_count": 68,
   "id": "f83554ea",
   "metadata": {},
   "outputs": [],
   "source": [
    "a=np.array([12,2,3,6],dtype=np.float16)"
   ]
  },
  {
   "cell_type": "code",
   "execution_count": 69,
   "id": "40c2bf60",
   "metadata": {},
   "outputs": [
    {
     "data": {
      "text/plain": [
       "dtype('float16')"
      ]
     },
     "execution_count": 69,
     "metadata": {},
     "output_type": "execute_result"
    }
   ],
   "source": [
    "a.dtype"
   ]
  },
  {
   "cell_type": "code",
   "execution_count": 70,
   "id": "f070b81e",
   "metadata": {},
   "outputs": [
    {
     "data": {
      "text/plain": [
       "array([12.,  2.,  3.,  6.], dtype=float16)"
      ]
     },
     "execution_count": 70,
     "metadata": {},
     "output_type": "execute_result"
    }
   ],
   "source": [
    "a"
   ]
  },
  {
   "cell_type": "code",
   "execution_count": 71,
   "id": "28f7af6e",
   "metadata": {},
   "outputs": [
    {
     "data": {
      "text/plain": [
       "array('1999-06-14', dtype='datetime64[D]')"
      ]
     },
     "execution_count": 71,
     "metadata": {},
     "output_type": "execute_result"
    }
   ],
   "source": [
    "np.array(np.datetime64('1999-06-14'))"
   ]
  },
  {
   "cell_type": "code",
   "execution_count": 72,
   "id": "f57d3415",
   "metadata": {},
   "outputs": [
    {
     "data": {
      "text/plain": [
       "array([1., 2., 3.])"
      ]
     },
     "execution_count": 72,
     "metadata": {},
     "output_type": "execute_result"
    }
   ],
   "source": [
    "new=np.array([1.0,2.0,3.0])\n",
    "new"
   ]
  },
  {
   "cell_type": "code",
   "execution_count": 73,
   "id": "6370a32e",
   "metadata": {},
   "outputs": [],
   "source": [
    "b=np.array([1,2,3])"
   ]
  },
  {
   "cell_type": "code",
   "execution_count": 74,
   "id": "095bc3a5",
   "metadata": {},
   "outputs": [
    {
     "data": {
      "text/plain": [
       "array(['1', '2', '3'], dtype='<U11')"
      ]
     },
     "execution_count": 74,
     "metadata": {},
     "output_type": "execute_result"
    }
   ],
   "source": [
    "b.astype(\"str\")"
   ]
  },
  {
   "cell_type": "code",
   "execution_count": 75,
   "id": "fb357a22",
   "metadata": {},
   "outputs": [
    {
     "data": {
      "text/plain": [
       "array([1., 2., 3.], dtype=float32)"
      ]
     },
     "execution_count": 75,
     "metadata": {},
     "output_type": "execute_result"
    }
   ],
   "source": [
    "b.astype(\"f\")"
   ]
  },
  {
   "cell_type": "code",
   "execution_count": 76,
   "id": "a1a72d10",
   "metadata": {},
   "outputs": [
    {
     "data": {
      "text/plain": [
       "127"
      ]
     },
     "execution_count": 76,
     "metadata": {},
     "output_type": "execute_result"
    }
   ],
   "source": [
    "np.iinfo(np.int8).max"
   ]
  },
  {
   "cell_type": "code",
   "execution_count": 77,
   "id": "ae7a4b9c",
   "metadata": {},
   "outputs": [
    {
     "data": {
      "text/plain": [
       "-128"
      ]
     },
     "execution_count": 77,
     "metadata": {},
     "output_type": "execute_result"
    }
   ],
   "source": [
    "np.iinfo(np.int8).min"
   ]
  },
  {
   "cell_type": "code",
   "execution_count": null,
   "id": "1e54e559",
   "metadata": {},
   "outputs": [],
   "source": []
  }
 ],
 "metadata": {
  "kernelspec": {
   "display_name": "Python 3 (ipykernel)",
   "language": "python",
   "name": "python3"
  },
  "language_info": {
   "codemirror_mode": {
    "name": "ipython",
    "version": 3
   },
   "file_extension": ".py",
   "mimetype": "text/x-python",
   "name": "python",
   "nbconvert_exporter": "python",
   "pygments_lexer": "ipython3",
   "version": "3.11.4"
  }
 },
 "nbformat": 4,
 "nbformat_minor": 5
}
